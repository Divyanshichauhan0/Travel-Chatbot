# 📦 Imports
# Watsonx integration
from ibm_watsonx_ai import APIClient, Credentials
from ibm_watsonx_ai.foundation_models import ModelInference
from ibm_watsonx_ai.metanames import GenTextParamsMetaNames as GenParams
from langgraph.graph import StateGraph
from langgraph.graph import START, END


API_KEY = "Dux82hMz1XfxW7QJiQ2klDTEX30aWlfXKjKcg2OvtKCQ"
PROJECT_ID = "bd4031c0-958c-41b0-9d2b-78e8c533d70a"
WATSONX_URL = "https://us-south.ml.cloud.ibm.com"  # example region

creds = Credentials(url=WATSONX_URL, api_key=API_KEY)
client = APIClient(credentials=creds, project_id=PROJECT_ID)
model = ModelInference(model_id="ibm/granite-3-2-8b-instruct", credentials=creds, project_id=PROJECT_ID)

from langgraph.graph import StateGraph, END
from typing import TypedDict, Literal, Optional
import requests

from typing import TypedDict

# 🧠 Define the state of the travel agent
class TravelState(TypedDict):
    from_city: str
    to_city: str
    travel_date: str
    distance_km: int
    budget: int
    transport_mode: Literal["train", "bus", "flight", "self-drive"]
    transport_cost: Optional[int]
    transport_link: Optional[str]
    hotel_name: Optional[str]
    hotel_price: Optional[int]
    hotel_link: Optional[str]
    total_cost: int # Changed to int and will be initialized to 0
    formatted_reply: Optional[str] # Added for the final output


# 🏨 Hotel lookup (mock; plug into Booking.com API later)
def get_hotel_data(city: str, budget: int):
    hotels = {
        "Jaipur": {
            "name": "Hotel Pearl Regency",
            "price": 1800,
            "link": "https://www.booking.com/hotel/pearl-regency-jaipur"
        },
        "Delhi": {
            "name": "Royal Stay Inn",
            "price": 2200,
            "link": "https://www.agoda.com/en-in/city/delhi-in.html"
        },
        "Mumbai": {
            "name": "Seaside Escape",
            "price": 3200,
            "link": "https://www.oyorooms.com/search?location=Mumbai"
        }
    }
    return hotels.get(city, {"name": "Budget Stay", "price": 2000, "link": None})

def hotel_node(state: TravelState) -> TravelState:
    hotel = get_hotel_data(state["to_city"], state["budget"])
    state["hotel_name"] = hotel["name"]
    state["hotel_price"] = hotel["price"]
    state["hotel_link"] = hotel["link"]
    state["total_cost"] += hotel["price"] # Add to existing total_cost
    return state

# 🚆 IRCTC real-time fare integration via RapidAPI
def get_train_cost(from_city: str, to_city: str, travel_date: str):
    station_map = {"Delhi": "NDLS", "Jaipur": "JP", "Mumbai": "BCT", "Goa": "MAO"}
    from_code = station_map.get(from_city, "NDLS")
    to_code = station_map.get(to_city, "JP")

    url = "https://irctc-api2.p.rapidapi.com/trainFare"
    querystring = {
        "fromStationCode": from_code,
        "toStationCode": to_code,
        "trainNo": "12951",  # fixed example, update later dynamically
        "classCode": "SL",   # Sleeper class
        "quotaCode": "GN",
        "date": travel_date
    }

    headers = {
        "X-RapidAPI-Key": "8aadc37053msh48669ed89c80e2cp1f1eb6jsn2d28ec5d5657",
        "X-RapidAPI-Host": "irctc-api2.p.rapidapi.com"
    }

    try:
        response = requests.get(url, headers=headers, params=querystring)
        fare = response.json().get("data", {}).get("fare", {}).get("totalFare", 1200)
        return {"cost": int(fare), "link": "https://www.irctc.co.in/nget/train-search"}
    except Exception as e:
        print("IRCTC error:", e)
        return {"cost": 1200, "link": "https://www.irctc.co.in/nget/train-search"}

# ✈️🚌🚗 Transport cost calculators
def get_flight_cost(from_city, to_city):
    return {"cost": 2800, "link": "https://www.makemytrip.com/flights/"}

def get_bus_cost(from_city, to_city):
    return {"cost": 1000, "link": "https://www.redbus.in/"}

def get_self_drive_cost(distance_km):
    return {"cost": int((distance_km / 15) * 110), "link": None}

def transport_node(state: TravelState) -> TravelState:
    mode = state["transport_mode"]
    if mode == "train":
        res = get_train_cost(state["from_city"], state["to_city"], state["travel_date"])
    elif mode == "flight":
        res = get_flight_cost(state["from_city"], state["to_city"])
    elif mode == "bus":
        res = get_bus_cost(state["from_city"], state["to_city"])
    elif mode == "self-drive":
        res = get_self_drive_cost(state["distance_km"])
    else:
        res = {"cost": 0, "link": None}

    state["transport_cost"] = res["cost"]
    state["transport_link"] = res["link"]
    state["total_cost"] += res["cost"]
    return state

# 📄 Final formatter using Watsonx
def watsonx_summary_node(state: TravelState) -> TravelState:
    # First, generate the structured part of the reply
    structured_reply = f"""
## 🏨 Hotel: {state.get('hotel_name', 'N/A')} – ₹{state.get('hotel_price', 0)}
{f"[Book Hotel]({state['hotel_link']})" if state.get('hotel_link') else ""}

## 🚀 Transport Mode: {state.get('transport_mode', 'N/A').capitalize()} – ₹{state.get('transport_cost', 0)}
{f"[Book Transport]({state['transport_link']})" if state.get('transport_link') else ""}

## 💰 Total Trip Cost: ₹{state.get('total_cost', 0)}
""".strip()

    # Then, use Watsonx for an overall summary
    prompt = f"Summarize the following trip plan from {state['from_city']} to {state['to_city']} on {state['travel_date']}:\n\nHotel: {state.get('hotel_name', 'N/A')} (Cost: ₹{state.get('hotel_price', 0)}).\nTransport: {state.get('transport_mode', 'N/A')} (Cost: ₹{state.get('transport_cost', 0)}).\nTotal Cost: ₹{state.get('total_cost', 0)}. Provide a friendly, concise summary."
    try:
        gen_params = {GenParams.TEMPERATURE: 0.7}
        response = model.generate_text(prompt=prompt, params=gen_params, max_new_tokens=200)
        state["formatted_reply"] = f"{structured_reply}\n\n**Watsonx AI Summary:**\n{response.text.strip()}"
    except Exception as e:
        print("Watsonx error:", e)
        state["formatted_reply"] = f"{structured_reply}\n\n**Watsonx AI Summary (Error):** Could not generate summary due to an error."
    return state


# 🔗 Build LangGraph
def build_agent_graph():
    builder = StateGraph(TravelState)

    # Define the nodes
    builder.add_node("hotel", hotel_node)
    builder.add_node("transport", transport_node)
    builder.add_node("summarize", watsonx_summary_node)

    # Define the sequence of execution
    builder.add_edge(START, "hotel")
    builder.add_edge("hotel", "transport")
    builder.add_edge("transport", "summarize")
    builder.add_edge("summarize", END)

    return builder.compile()

agent = build_agent_graph()

# 🧪 Run Sample
sample_input = {
    "from_city": "Delhi",
    "to_city": "Jaipur",
    "distance_km": 270,
    "budget": 5000,
    "travel_date": "2025-08-15",
    "transport_mode": "train",
    "total_cost": 0 # Initialize total_cost
}

reply = agent.invoke(sample_input)
print(reply["formatted_reply"]) # Print the formatted reply
