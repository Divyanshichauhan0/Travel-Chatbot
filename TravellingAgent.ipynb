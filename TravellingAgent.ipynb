# 📦 Imports
from langgraph.graph import StateGraph, END
from typing import TypedDict, Literal, Optional
import requests

# 🧠 Define the state of the travel agent
class TravelState(TypedDict):
    from_city: str
    to_city: str
    travel_date: str
    distance_km: int
    budget: int
    transport_mode: Literal["train", "bus", "flight", "self-drive"]
    transport_cost: Optional[int]
    transport_link: Optional[str]
    hotel_name: Optional[str]
    hotel_price: Optional[int]
    hotel_link: Optional[str]
    total_cost: Optional[int]

# 🏨 Hotel lookup (mock; plug into Booking.com API later)
def get_hotel_data(city: str, budget: int):
    hotels = {
        "Jaipur": {
            "name": "Hotel Pearl Regency",
            "price": 1800,
            "link": "https://www.booking.com/hotel/pearl-regency-jaipur"
        },
        "Delhi": {
            "name": "Royal Stay Inn",
            "price": 2200,
            "link": "https://www.agoda.com/en-in/city/delhi-in.html"
        },
        "Mumbai": {
            "name": "Seaside Escape",
            "price": 3200,
            "link": "https://www.oyorooms.com/search?location=Mumbai"
        }
    }
    return hotels.get(city, {"name": "Budget Stay", "price": 2000, "link": None})

def hotel_node(state: TravelState) -> TravelState:
    hotel = get_hotel_data(state["to_city"], state["budget"])
    state["hotel_name"] = hotel["name"]
    state["hotel_price"] = hotel["price"]
    state["hotel_link"] = hotel["link"]
    state["total_cost"] = hotel["price"]
    return state

# 🚆 IRCTC real-time fare integration via RapidAPI
def get_train_cost(from_city: str, to_city: str, travel_date: str):
    station_map = {"Delhi": "NDLS", "Jaipur": "JP", "Mumbai": "BCT", "Goa": "MAO"}
    from_code = station_map.get(from_city, "NDLS")
    to_code = station_map.get(to_city, "JP")

    url = "https://irctc-api2.p.rapidapi.com/trainFare"
    querystring = {
        "fromStationCode": from_code,
        "toStationCode": to_code,
        "trainNo": "12951",  # fixed example, update later dynamically
        "classCode": "SL",   # Sleeper class
        "quotaCode": "GN",
        "date": travel_date
    }

    headers = {
        "X-RapidAPI-Key": "8aadc37053msh48669ed89c80e2cp1f1eb6jsn2d28ec5d5657",
        "X-RapidAPI-Host": "irctc-api2.p.rapidapi.com"
    }

    try:
        response = requests.get(url, headers=headers, params=querystring)
        fare = response.json().get("data", {}).get("fare", {}).get("totalFare", 1200)
        return {"cost": int(fare), "link": "https://www.irctc.co.in/nget/train-search"}
    except Exception as e:
        print("IRCTC error:", e)
        return {"cost": 1200, "link": "https://www.irctc.co.in/nget/train-search"}

# ✈️🚌🚗 Transport cost calculators
def get_flight_cost(from_city, to_city):
    return {"cost": 2800, "link": "https://www.makemytrip.com/flights/"}

def get_bus_cost(from_city, to_city):
    return {"cost": 1000, "link": "https://www.redbus.in/"}

def get_self_drive_cost(distance_km):
    return {"cost": int((distance_km / 15) * 110), "link": None}

def transport_node(state: TravelState) -> TravelState:
    mode = state["transport_mode"]
    if mode == "train":
        res = get_train_cost(state["from_city"], state["to_city"], state["travel_date"])
    elif mode == "flight":
        res = get_flight_cost(state["from_city"], state["to_city"])
    elif mode == "bus":
        res = get_bus_cost(state["from_city"], state["to_city"])
    elif mode == "self-drive":
        res = get_self_drive_cost(state["distance_km"])
    else:
        res = {"cost": 0, "link": None}

    state["transport_cost"] = res["cost"]
    state["transport_link"] = res["link"]
    state["total_cost"] += res["cost"]
    return state

# 📄 Final formatter (chatbot-friendly Markdown)
def format_reply(state: TravelState) -> dict:
    reply = f"""
## 🏨 Hotel: {state['hotel_name']} – ₹{state['hotel_price']}
{f"[Book Hotel]({state['hotel_link']})" if state['hotel_link'] else ""}

## 🚀 Transport Mode: {state['transport_mode'].capitalize()} – ₹{state['transport_cost']}
{f"[Book Transport]({state['transport_link']})" if state['transport_link'] else ""}

## 💰 Total Trip Cost: ₹{state['total_cost']}
""".strip()

    return {"formatted_reply": reply, **state}


# 🔗 Build LangGraph
graph = StateGraph(TravelState)
graph.add_node("hotel", hotel_node)
graph.add_node("transport", transport_node)
graph.add_node("format", format_reply)

graph.set_entry_point("hotel")
graph.add_edge("hotel", "transport")
graph.add_edge("transport", "format")
graph.add_edge("format", END)

agent = graph.compile()

# 🧪 Run Sample
sample_input = {
    "from_city": "Delhi",
    "to_city": "Jaipur",
    "distance_km": 270,
    "budget": 5000,
    "travel_date": "2025-08-15",
    "transport_mode": "train"
}

reply = agent.invoke(sample_input)
print(reply)
